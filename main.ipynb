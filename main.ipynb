{
 "cells": [
  {
   "cell_type": "code",
   "execution_count": 2,
   "metadata": {},
   "outputs": [],
   "source": [
    "# - [ ] How is the model actually classifying the images\n",
    "# - [ ] Writing and getting a working model\n",
    "# - [ ] Improving the code/ fixing bug\n",
    "# - [ ] Preparing the presentation \n",
    "\n",
    "\n",
    "# How knn is actually implemented into our project\n",
    "# A: Implement Our own version of KNN if we have the time. Use existing libraries for now\n",
    "\n",
    "# Basic knn model implemented \n",
    "# How r we representing data\n",
    "#A: the data is organised by folders with each folder having an id and 72 images(png) corresponding to that id\n",
    "\n",
    "\n",
    "# How to figure out which k?\n",
    "# A: a) play around with different K and see which gives the best accurancy \n",
    "#    b) use graph to see which k gives the best accuracy\n",
    "\n",
    "\n",
    "from sklearn.neighbors import KNeighborsClassifier\n",
    "from sklearn.model_selection import train_test_split\n",
    "from sklearn.metrics import accuracy_score\n",
    "import os\n",
    "import pandas as pd\n",
    "import numpy as np\n",
    "import matplotlib.pyplot as plt\n",
    "import cv2  as cv"
   ]
  },
  {
   "cell_type": "code",
   "execution_count": 3,
   "metadata": {},
   "outputs": [],
   "source": [
    "dataset = \"subjects_0-1999_72_imgs\"\n",
    "labels = os.listdir(dataset)\n",
    "X_data = []\n",
    "Y_data = []\n",
    "i = 0 \n",
    "for label in labels:\n",
    "    if i == 100:\n",
    "        break\n",
    "    if label == \".DS_Store\":\n",
    "        continue\n",
    "    for file in os.listdir(os.path.join(dataset, label)):\n",
    "        img = cv.imread(os.path.join(dataset, label, file))\n",
    "        X_data.append(img)\n",
    "        Y_data.append(label)\n",
    "    i += 1\n",
    "x_train, x_test, y_train, y_test = train_test_split(X_data, Y_data, test_size=0.2, random_state=42)"
   ]
  },
  {
   "cell_type": "code",
   "execution_count": 4,
   "metadata": {},
   "outputs": [],
   "source": [
    "# flatten the images\n",
    "x_train = np.array(x_train).reshape(len(x_train), -1)\n",
    "x_test = np.array(x_test).reshape(len(x_test), -1)"
   ]
  },
  {
   "cell_type": "code",
   "execution_count": 5,
   "metadata": {},
   "outputs": [
    {
     "data": {
      "text/plain": [
       "(5760, 37632)"
      ]
     },
     "execution_count": 5,
     "metadata": {},
     "output_type": "execute_result"
    }
   ],
   "source": [
    "x_train.shape"
   ]
  },
  {
   "cell_type": "code",
   "execution_count": 8,
   "metadata": {},
   "outputs": [],
   "source": [
    "knn = KNeighborsClassifier(n_neighbors=10)\n",
    "fitted = knn.fit(x_train, y_train)"
   ]
  },
  {
   "cell_type": "code",
   "execution_count": 10,
   "metadata": {},
   "outputs": [
    {
     "name": "stdout",
     "output_type": "stream",
     "text": [
      "Accuracy for k =  1  is  0.12986111111111112\n",
      "Accuracy for k =  2  is  0.10416666666666667\n",
      "Accuracy for k =  3  is  0.10277777777777777\n",
      "Accuracy for k =  4  is  0.10208333333333333\n",
      "Accuracy for k =  5  is  0.09791666666666667\n",
      "Accuracy for k =  6  is  0.09236111111111112\n",
      "Accuracy for k =  7  is  0.09930555555555555\n",
      "Accuracy for k =  8  is  0.10555555555555556\n",
      "Accuracy for k =  9  is  0.10277777777777777\n",
      "Accuracy for k =  10  is  0.10972222222222222\n",
      "Accuracy for k =  11  is  0.1076388888888889\n",
      "Accuracy for k =  12  is  0.1076388888888889\n",
      "Accuracy for k =  13  is  0.10138888888888889\n",
      "Accuracy for k =  14  is  0.10625\n",
      "Accuracy for k =  15  is  0.10555555555555556\n",
      "Accuracy for k =  16  is  0.10694444444444444\n",
      "Accuracy for k =  17  is  0.10416666666666667\n",
      "Accuracy for k =  18  is  0.1\n",
      "Accuracy for k =  19  is  0.09930555555555555\n",
      "Accuracy for k =  20  is  0.09930555555555555\n"
     ]
    }
   ],
   "source": [
    "for i in range(20):\n",
    "    knn = KNeighborsClassifier(n_neighbors=i+1)\n",
    "    fitted = knn.fit(x_train, y_train)\n",
    "    y_pred = fitted.predict(x_test)\n",
    "    print(\"Accuracy for k = \", i+1, \" is \", accuracy_score(y_test, y_pred))\n",
    "    "
   ]
  },
  {
   "cell_type": "code",
   "execution_count": 9,
   "metadata": {},
   "outputs": [
    {
     "name": "stdout",
     "output_type": "stream",
     "text": [
      "Accuracy:  0.10972222222222222\n"
     ]
    }
   ],
   "source": [
    "y_pred= knn.predict(x_test)\n",
    "print(\"Accuracy: \", accuracy_score(y_test, y_pred))"
   ]
  },
  {
   "cell_type": "code",
   "execution_count": null,
   "metadata": {},
   "outputs": [],
   "source": []
  }
 ],
 "metadata": {
  "kernelspec": {
   "display_name": "base",
   "language": "python",
   "name": "python3"
  },
  "language_info": {
   "codemirror_mode": {
    "name": "ipython",
    "version": 3
   },
   "file_extension": ".py",
   "mimetype": "text/x-python",
   "name": "python",
   "nbconvert_exporter": "python",
   "pygments_lexer": "ipython3",
   "version": "3.9.7"
  },
  "orig_nbformat": 4
 },
 "nbformat": 4,
 "nbformat_minor": 2
}

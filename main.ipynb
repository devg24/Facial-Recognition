{
 "cells": [
  {
   "cell_type": "code",
   "execution_count": null,
   "metadata": {},
   "outputs": [],
   "source": [
    "# - [ ] How is the model actually classifying the images\n",
    "# - [ ] Writing and getting a working model\n",
    "# - [ ] Improving the code/ fixing bug\n",
    "# - [ ] Preparing the presentation \n",
    "\n",
    "\n",
    "# How knn is actually implemented into our project\n",
    "# A: Implement Our own version of KNN if we have the time. Use existing libraries for now\n",
    "\n",
    "# Basic knn model implemented \n",
    "# How r we representing data\n",
    "#A: the data is organised by folders with each folder having an id and 72 images(png) corresponding to that id\n",
    "\n",
    "\n",
    "# How to figure out which k?\n",
    "# A: a) play around with different K and see which gives the best accurancy \n",
    "#    b) use graph to see which k gives the best accuracy\n",
    "\n",
    "\n",
    "from sklearn.neighbors import KNeighborsClassifier\n",
    "from sklearn.model_selection import train_test_split\n",
    "from sklearn.metrics import accuracy_score\n",
    "import os\n",
    "import pandas as pd\n",
    "import numpy as np\n",
    "import matplotlib.pyplot as plt\n",
    "import cv2  as cv"
   ]
  },
  {
   "cell_type": "code",
   "execution_count": null,
   "metadata": {},
   "outputs": [],
   "source": [
    "dataset = \"\"\n",
    "labels = os.listdir(dataset)\n",
    "X_data = []\n",
    "Y_data = []\n",
    "for label in labels:\n",
    "    for file in os.listdir(os.path.join(dataset, label)):\n",
    "        img = cv.imread(os.path.join(dataset, label, file))\n",
    "        X_data.append(img)\n",
    "        Y_data.append(label)\n",
    "x_train, x_test, y_train, y_test = train_test_split(X_data, Y_data, test_size=0.2, random_state=42)"
   ]
  },
  {
   "cell_type": "code",
   "execution_count": null,
   "metadata": {},
   "outputs": [],
   "source": [
    "knn = KNeighborsClassifier(n_neighbors=3)\n",
    "knn.fit(x_train, y_train)"
   ]
  },
  {
   "cell_type": "code",
   "execution_count": null,
   "metadata": {},
   "outputs": [],
   "source": [
    "y_pred= knn.predict(x_test)\n",
    "print(\"Accuracy: \", accuracy_score(y_test, y_pred))"
   ]
  }
 ],
 "metadata": {
  "language_info": {
   "name": "python"
  },
  "orig_nbformat": 4
 },
 "nbformat": 4,
 "nbformat_minor": 2
}
